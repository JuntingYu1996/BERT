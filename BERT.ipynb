{
 "cells": [
  {
   "cell_type": "code",
   "execution_count": 380,
   "metadata": {
    "colab": {
     "base_uri": "https://localhost:8080/",
     "height": 413
    },
    "colab_type": "code",
    "id": "n37RJPCWEM3W",
    "outputId": "6ab65655-c4be-455d-f84d-edf189a448db"
   },
   "outputs": [
    {
     "data": {
      "text/html": [
       "<div>\n",
       "<style scoped>\n",
       "    .dataframe tbody tr th:only-of-type {\n",
       "        vertical-align: middle;\n",
       "    }\n",
       "\n",
       "    .dataframe tbody tr th {\n",
       "        vertical-align: top;\n",
       "    }\n",
       "\n",
       "    .dataframe thead th {\n",
       "        text-align: right;\n",
       "    }\n",
       "</style>\n",
       "<table border=\"1\" class=\"dataframe\">\n",
       "  <thead>\n",
       "    <tr style=\"text-align: right;\">\n",
       "      <th></th>\n",
       "      <th>Sentence #</th>\n",
       "      <th>Word</th>\n",
       "      <th>POS</th>\n",
       "      <th>Tag</th>\n",
       "    </tr>\n",
       "  </thead>\n",
       "  <tbody>\n",
       "    <tr>\n",
       "      <td>1048565</td>\n",
       "      <td>Sentence: 47958</td>\n",
       "      <td>impact</td>\n",
       "      <td>NN</td>\n",
       "      <td>O</td>\n",
       "    </tr>\n",
       "    <tr>\n",
       "      <td>1048566</td>\n",
       "      <td>Sentence: 47958</td>\n",
       "      <td>.</td>\n",
       "      <td>.</td>\n",
       "      <td>O</td>\n",
       "    </tr>\n",
       "    <tr>\n",
       "      <td>1048567</td>\n",
       "      <td>Sentence: 47959</td>\n",
       "      <td>Indian</td>\n",
       "      <td>JJ</td>\n",
       "      <td>B-gpe</td>\n",
       "    </tr>\n",
       "    <tr>\n",
       "      <td>1048568</td>\n",
       "      <td>Sentence: 47959</td>\n",
       "      <td>forces</td>\n",
       "      <td>NNS</td>\n",
       "      <td>O</td>\n",
       "    </tr>\n",
       "    <tr>\n",
       "      <td>1048569</td>\n",
       "      <td>Sentence: 47959</td>\n",
       "      <td>said</td>\n",
       "      <td>VBD</td>\n",
       "      <td>O</td>\n",
       "    </tr>\n",
       "    <tr>\n",
       "      <td>1048570</td>\n",
       "      <td>Sentence: 47959</td>\n",
       "      <td>they</td>\n",
       "      <td>PRP</td>\n",
       "      <td>O</td>\n",
       "    </tr>\n",
       "    <tr>\n",
       "      <td>1048571</td>\n",
       "      <td>Sentence: 47959</td>\n",
       "      <td>responded</td>\n",
       "      <td>VBD</td>\n",
       "      <td>O</td>\n",
       "    </tr>\n",
       "    <tr>\n",
       "      <td>1048572</td>\n",
       "      <td>Sentence: 47959</td>\n",
       "      <td>to</td>\n",
       "      <td>TO</td>\n",
       "      <td>O</td>\n",
       "    </tr>\n",
       "    <tr>\n",
       "      <td>1048573</td>\n",
       "      <td>Sentence: 47959</td>\n",
       "      <td>the</td>\n",
       "      <td>DT</td>\n",
       "      <td>O</td>\n",
       "    </tr>\n",
       "    <tr>\n",
       "      <td>1048574</td>\n",
       "      <td>Sentence: 47959</td>\n",
       "      <td>attack</td>\n",
       "      <td>NN</td>\n",
       "      <td>O</td>\n",
       "    </tr>\n",
       "  </tbody>\n",
       "</table>\n",
       "</div>"
      ],
      "text/plain": [
       "              Sentence #       Word  POS    Tag\n",
       "1048565  Sentence: 47958     impact   NN      O\n",
       "1048566  Sentence: 47958          .    .      O\n",
       "1048567  Sentence: 47959     Indian   JJ  B-gpe\n",
       "1048568  Sentence: 47959     forces  NNS      O\n",
       "1048569  Sentence: 47959       said  VBD      O\n",
       "1048570  Sentence: 47959       they  PRP      O\n",
       "1048571  Sentence: 47959  responded  VBD      O\n",
       "1048572  Sentence: 47959         to   TO      O\n",
       "1048573  Sentence: 47959        the   DT      O\n",
       "1048574  Sentence: 47959     attack   NN      O"
      ]
     },
     "execution_count": 380,
     "metadata": {},
     "output_type": "execute_result"
    }
   ],
   "source": [
    "import pandas as pd\n",
    "import numpy as np\n",
    "import csv\n",
    "from tqdm import tqdm, trange\n",
    "\n",
    "csv_file = \"https://raw.githubusercontent.com/JuntingYu1996/BERT/master/ner_dataset.csv\"\n",
    "encoding = \"latin1\"\n",
    "sep = \",\"\n",
    "# quoting = csv.QUOTE_NONE\n",
    "quoting = 0\n",
    "\n",
    "data = pd.read_csv(csv_file,sep=sep,encoding=encoding,quoting=quoting).fillna(method=\"ffill\")\n",
    "data.tail(10)"
   ]
  },
  {
   "cell_type": "code",
   "execution_count": 381,
   "metadata": {
    "colab": {},
    "colab_type": "code",
    "id": "7gj-Va_rEM3b"
   },
   "outputs": [],
   "source": [
    "class SentenceGetter(object):\n",
    "    \n",
    "    def __init__(self, data):\n",
    "        self.n_sent = 1\n",
    "        self.data = data\n",
    "        self.empty = False\n",
    "        agg_func = lambda s: [(w, p, t) for w, p, t in zip(s[\"Word\"].values.tolist(),\n",
    "                                                           s[\"POS\"].values.tolist(),\n",
    "                                                           s[\"Tag\"].values.tolist())]\n",
    "        self.grouped = self.data.groupby(\"Sentence #\").apply(agg_func)\n",
    "        self.sentences = [s for s in self.grouped]\n",
    "    \n",
    "    def get_next(self):\n",
    "        try:\n",
    "            s = self.grouped[\"Sentence: {}\".format(self.n_sent)]\n",
    "            self.n_sent += 1\n",
    "            return s\n",
    "        except:\n",
    "            return None"
   ]
  },
  {
   "cell_type": "code",
   "execution_count": 382,
   "metadata": {
    "colab": {},
    "colab_type": "code",
    "id": "Wr0rAWR-EM3d"
   },
   "outputs": [],
   "source": [
    "getter = SentenceGetter(data)"
   ]
  },
  {
   "cell_type": "code",
   "execution_count": 383,
   "metadata": {
    "colab": {
     "base_uri": "https://localhost:8080/",
     "height": 34
    },
    "colab_type": "code",
    "id": "ApBg4tfDEM3f",
    "outputId": "41ce9725-8929-4698-a1a4-92bc234c8076"
   },
   "outputs": [
    {
     "data": {
      "text/plain": [
       "'Thousands of demonstrators have marched through London to protest the war in Iraq and demand the withdrawal of British troops from that country .'"
      ]
     },
     "execution_count": 383,
     "metadata": {},
     "output_type": "execute_result"
    }
   ],
   "source": [
    "sentences = [\" \".join([s[0] for s in sent]) for sent in getter.sentences]\n",
    "sentences[0]"
   ]
  },
  {
   "cell_type": "code",
   "execution_count": 384,
   "metadata": {
    "colab": {},
    "colab_type": "code",
    "id": "mN-bp_tJEM3h"
   },
   "outputs": [],
   "source": [
    "import torch\n",
    "from torch.optim import Adam\n",
    "from torch.utils.data import TensorDataset, DataLoader, RandomSampler, SequentialSampler\n",
    "from keras.preprocessing.sequence import pad_sequences\n",
    "from sklearn.model_selection import train_test_split\n",
    "from pytorch_pretrained_bert import BertTokenizer, BertConfig\n",
    "from pytorch_pretrained_bert import BertForTokenClassification, BertAdam"
   ]
  },
  {
   "cell_type": "code",
   "execution_count": 385,
   "metadata": {
    "colab": {},
    "colab_type": "code",
    "id": "lieovOfLEM3r"
   },
   "outputs": [],
   "source": [
    "MAX_LEN = 75 # maximum number of tokens in a sequence\n",
    "bs = 32 # batch size\n",
    "BERT_MAX_LEN = 512"
   ]
  },
  {
   "cell_type": "code",
   "execution_count": 386,
   "metadata": {
    "colab": {},
    "colab_type": "code",
    "id": "DoyT63NLEM3t"
   },
   "outputs": [],
   "source": [
    "device = torch.device(\"cuda\" if torch.cuda.is_available() else \"cpu\")\n",
    "n_gpu = torch.cuda.device_count()"
   ]
  },
  {
   "cell_type": "code",
   "execution_count": 387,
   "metadata": {
    "colab": {},
    "colab_type": "code",
    "id": "U84lpKchEM3v"
   },
   "outputs": [],
   "source": [
    "tokenizer = BertTokenizer.from_pretrained('bert-base-uncased', do_lower_case=True)"
   ]
  },
  {
   "cell_type": "code",
   "execution_count": 390,
   "metadata": {
    "colab": {},
    "colab_type": "code",
    "id": "e_8qQ5FjEM3y"
   },
   "outputs": [],
   "source": [
    "# tokenized_texts = [tokenizer.tokenize(sent) for sent in sentences]\n",
    "tokenized_texts = []\n",
    "labels = [[s[2] for s in sent] for sent in getter.sentences]\n",
    "for sent in range(len(sentences)):\n",
    "    tokenized_texts.append([])\n",
    "    splitted = sentences[sent].split()\n",
    "    for word in range(len(splitted)):\n",
    "        for padding in range(len(tokenizer.tokenize(splitted[word])) - 1):\n",
    "            labels[sent].insert(len(tokenized_texts[-1])+padding+1,'X')\n",
    "        tokenized_texts[-1].extend(tokenizer.tokenize(splitted[word]))"
   ]
  },
  {
   "cell_type": "code",
   "execution_count": 407,
   "metadata": {
    "colab": {
     "base_uri": "https://localhost:8080/",
     "height": 428
    },
    "colab_type": "code",
    "id": "rKqqMTG7EM30",
    "outputId": "0525c557-6b81-452d-bf3e-c93e00851012"
   },
   "outputs": [
    {
     "name": "stdout",
     "output_type": "stream",
     "text": [
      "Checking sentence 10226\n",
      "Lieutenant Nathan Perry Monday told VOA that U.S. helicopters did not enter \n",
      "\n",
      "['lieutenant', 'nathan', 'perry', 'monday', 'told', 'vo', '##a', 'that', 'u', '.', 's', '.', 'helicopters', 'did', 'not', 'enter'] \n",
      "\n",
      "Length of tokenized text: 16\n",
      "\n",
      "['O', 'B-per', 'I-per', 'B-tim', 'O', 'B-org', 'X', 'O', 'B-geo', 'X', 'X', 'X', 'O', 'O', 'O', 'O'] \n",
      "\n",
      "Length of labels: 16\n",
      "\n",
      "nathan : B-per\n",
      "perry : I-per\n",
      "monday : B-tim\n",
      "vo : B-org\n",
      "##a : X\n",
      "u : B-geo\n",
      ". : X\n",
      "s : X\n",
      ". : X\n"
     ]
    }
   ],
   "source": [
    "checking = np.random.randint(len(tokenized_texts))\n",
    "print(\"Checking sentence %d\"%checking)\n",
    "print(sentences[checking],\"\\n\")\n",
    "print(tokenized_texts[checking],'\\n')\n",
    "print(\"Length of tokenized text: %d\\n\"%len(tokenized_texts[checking]))\n",
    "print(labels[checking],'\\n')\n",
    "print(\"Length of labels: %d\\n\"%len(labels[checking]))\n",
    "for token in range(len(tokenized_texts[checking])):\n",
    "    if labels[checking][token]!='O':\n",
    "      print(tokenized_texts[checking][token]+\" : \"+labels[checking][token])"
   ]
  },
  {
   "cell_type": "code",
   "execution_count": 397,
   "metadata": {
    "colab": {
     "base_uri": "https://localhost:8080/",
     "height": 71
    },
    "colab_type": "code",
    "id": "y0-bi3xMEM32",
    "outputId": "a1ce8e8d-624f-46f4-91f2-941ff7eb80e8"
   },
   "outputs": [
    {
     "name": "stdout",
     "output_type": "stream",
     "text": [
      "{'I-art': 0, 'B-art': 1, 'I-per': 2, 'B-eve': 3, 'B-tim': 4, 'I-gpe': 5, 'B-org': 6, 'I-tim': 7, 'I-org': 8, 'I-eve': 9, 'O': 10, 'B-per': 11, 'B-geo': 12, 'B-gpe': 13, 'B-nat': 14, 'I-geo': 15, 'I-nat': 16, 'X': 17}\n",
      "{0: 'I-art', 1: 'B-art', 2: 'I-per', 3: 'B-eve', 4: 'B-tim', 5: 'I-gpe', 6: 'B-org', 7: 'I-tim', 8: 'I-org', 9: 'I-eve', 10: 'O', 11: 'B-per', 12: 'B-geo', 13: 'B-gpe', 14: 'B-nat', 15: 'I-geo', 16: 'I-nat', 17: 'X'}\n"
     ]
    }
   ],
   "source": [
    "tags_vals = list(set(data[\"Tag\"].values))\n",
    "tags_vals.append('X')\n",
    "tag2idx = {t: i for i, t in enumerate(tags_vals)}\n",
    "print(tag2idx)\n",
    "idx2tag = {tag2idx[t]: t for t in tag2idx.keys()}\n",
    "print(idx2tag)"
   ]
  },
  {
   "cell_type": "code",
   "execution_count": 378,
   "metadata": {},
   "outputs": [
    {
     "data": {
      "text/plain": [
       "['B-Amenity',\n",
       " 'B-Cuisine',\n",
       " 'B-Dish',\n",
       " 'B-Hours',\n",
       " 'B-Location',\n",
       " 'B-Price',\n",
       " 'B-Rating',\n",
       " 'B-Restaurant_Name',\n",
       " 'I-Amenity',\n",
       " 'I-Cuisine',\n",
       " 'I-Dish',\n",
       " 'I-Hours',\n",
       " 'I-Location',\n",
       " 'I-Price',\n",
       " 'I-Rating',\n",
       " 'I-Restaurant_Name',\n",
       " 'O',\n",
       " 'X']"
      ]
     },
     "execution_count": 378,
     "metadata": {},
     "output_type": "execute_result"
    }
   ],
   "source": [
    "sorted(tag2idx)"
   ]
  },
  {
   "cell_type": "code",
   "execution_count": 0,
   "metadata": {
    "colab": {},
    "colab_type": "code",
    "id": "5YsTFzueEM34"
   },
   "outputs": [],
   "source": [
    "input_ids = pad_sequences([tokenizer.convert_tokens_to_ids(txt) for txt in tokenized_texts],\n",
    "                          maxlen=MAX_LEN, dtype=\"long\", truncating=\"post\", padding=\"post\")"
   ]
  },
  {
   "cell_type": "code",
   "execution_count": 0,
   "metadata": {
    "colab": {},
    "colab_type": "code",
    "id": "aOQbSmLrEM39"
   },
   "outputs": [],
   "source": [
    "tags = pad_sequences([[tag2idx.get(l) for l in lab] for lab in labels],\n",
    "                     maxlen=MAX_LEN, value=tag2idx[\"O\"], padding=\"post\",\n",
    "                     dtype=\"long\", truncating=\"post\")"
   ]
  },
  {
   "cell_type": "code",
   "execution_count": 0,
   "metadata": {
    "colab": {},
    "colab_type": "code",
    "id": "wOXlbsZbEM3_"
   },
   "outputs": [],
   "source": [
    "attention_masks = [[float(i>0) for i in ii] for ii in input_ids]"
   ]
  },
  {
   "cell_type": "code",
   "execution_count": 0,
   "metadata": {
    "colab": {},
    "colab_type": "code",
    "id": "0myy_wZlEM4B"
   },
   "outputs": [],
   "source": [
    "tr_inputs, val_inputs, tr_tags, val_tags = train_test_split(input_ids, tags, random_state=2020, test_size=0.3)\n",
    "tr_masks, val_masks, _, _ = train_test_split(attention_masks, input_ids, random_state=2020, test_size=0.3)"
   ]
  },
  {
   "cell_type": "code",
   "execution_count": 0,
   "metadata": {
    "colab": {
     "base_uri": "https://localhost:8080/",
     "height": 394
    },
    "colab_type": "code",
    "id": "G5jEBKhoEM4D",
    "outputId": "72d5af90-71ee-40fc-d214-01e8754ca229"
   },
   "outputs": [
    {
     "name": "stdout",
     "output_type": "stream",
     "text": [
      "['there', 'are', 'precedent', '##s', 'of', 'independent', 'governors', 'dealing', 'effectively', 'with', 'the', 'legislature', ',', 'and', 'indeed', 'a', 'wise', 'third', '-', 'party', 'governor', 'can', 'have', 'greater', 'effectiveness', 'than', 'a', 'major', 'party', 'governor', '.'] \n",
      "\n",
      "precedent: B-abstract \n",
      "##s: X \n",
      "of: I-abstract \n",
      "independent: I-abstract \n",
      "governors: I-abstract \n",
      "the: B-organization \n",
      "legislature: I-organization \n",
      "a: B-person \n",
      "wise: I-person \n",
      "third: I-person \n",
      "-: X \n",
      "party: X \n",
      "governor: I-person \n",
      "greater: B-abstract \n",
      "effectiveness: I-abstract \n",
      "a: B-person \n",
      "major: I-person \n",
      "party: I-person \n",
      "governor: I-person \n"
     ]
    }
   ],
   "source": [
    "#random checking\n",
    "\n",
    "checking = np.random.randint(val_inputs.shape[0])\n",
    "decoded_tokens = tokenizer.convert_ids_to_tokens(np.array((val_inputs[checking])))\n",
    "decoded_tokens = [word for word in decoded_tokens if word != '[PAD]']\n",
    "print(decoded_tokens,\"\\n\")\n",
    "for word in range(len(decoded_tokens)):\n",
    "    if val_tags[checking][word]!=tag2idx['O']:\n",
    "        print(\"%s: %s \"%(decoded_tokens[word],idx2tag[np.int(val_tags[checking][word])]))"
   ]
  },
  {
   "cell_type": "code",
   "execution_count": 0,
   "metadata": {
    "colab": {},
    "colab_type": "code",
    "id": "TWV5Jm0kEM4F"
   },
   "outputs": [],
   "source": [
    "tr_inputs = torch.tensor(tr_inputs)\n",
    "val_inputs = torch.tensor(val_inputs)\n",
    "tr_tags = torch.tensor(tr_tags)\n",
    "val_tags = torch.tensor(val_tags)\n",
    "tr_masks = torch.tensor(tr_masks)\n",
    "val_masks = torch.tensor(val_masks)"
   ]
  },
  {
   "cell_type": "code",
   "execution_count": 0,
   "metadata": {
    "colab": {},
    "colab_type": "code",
    "id": "ATXaPgl3EM4H"
   },
   "outputs": [],
   "source": [
    "train_data = TensorDataset(tr_inputs, tr_masks, tr_tags)\n",
    "train_sampler = RandomSampler(train_data)\n",
    "train_dataloader = DataLoader(train_data, sampler=train_sampler, batch_size=bs)\n",
    "\n",
    "valid_data = TensorDataset(val_inputs, val_masks, val_tags)\n",
    "valid_sampler = SequentialSampler(valid_data)\n",
    "valid_dataloader = DataLoader(valid_data, sampler=valid_sampler, batch_size=bs)"
   ]
  },
  {
   "cell_type": "code",
   "execution_count": 0,
   "metadata": {
    "colab": {},
    "colab_type": "code",
    "id": "RVl1I3uREM4J"
   },
   "outputs": [],
   "source": [
    "model = BertForTokenClassification.from_pretrained(\"bert-base-uncased\", num_labels=len(tag2idx))"
   ]
  },
  {
   "cell_type": "code",
   "execution_count": 0,
   "metadata": {
    "colab": {
     "base_uri": "https://localhost:8080/",
     "height": 1000
    },
    "colab_type": "code",
    "id": "MrHwlJKbEM4O",
    "outputId": "588b8887-96f7-4a50-84ed-39a7e1c40a85"
   },
   "outputs": [
    {
     "data": {
      "text/plain": [
       "BertForTokenClassification(\n",
       "  (bert): BertModel(\n",
       "    (embeddings): BertEmbeddings(\n",
       "      (word_embeddings): Embedding(30522, 768, padding_idx=0)\n",
       "      (position_embeddings): Embedding(512, 768)\n",
       "      (token_type_embeddings): Embedding(2, 768)\n",
       "      (LayerNorm): BertLayerNorm()\n",
       "      (dropout): Dropout(p=0.1, inplace=False)\n",
       "    )\n",
       "    (encoder): BertEncoder(\n",
       "      (layer): ModuleList(\n",
       "        (0): BertLayer(\n",
       "          (attention): BertAttention(\n",
       "            (self): BertSelfAttention(\n",
       "              (query): Linear(in_features=768, out_features=768, bias=True)\n",
       "              (key): Linear(in_features=768, out_features=768, bias=True)\n",
       "              (value): Linear(in_features=768, out_features=768, bias=True)\n",
       "              (dropout): Dropout(p=0.1, inplace=False)\n",
       "            )\n",
       "            (output): BertSelfOutput(\n",
       "              (dense): Linear(in_features=768, out_features=768, bias=True)\n",
       "              (LayerNorm): BertLayerNorm()\n",
       "              (dropout): Dropout(p=0.1, inplace=False)\n",
       "            )\n",
       "          )\n",
       "          (intermediate): BertIntermediate(\n",
       "            (dense): Linear(in_features=768, out_features=3072, bias=True)\n",
       "          )\n",
       "          (output): BertOutput(\n",
       "            (dense): Linear(in_features=3072, out_features=768, bias=True)\n",
       "            (LayerNorm): BertLayerNorm()\n",
       "            (dropout): Dropout(p=0.1, inplace=False)\n",
       "          )\n",
       "        )\n",
       "        (1): BertLayer(\n",
       "          (attention): BertAttention(\n",
       "            (self): BertSelfAttention(\n",
       "              (query): Linear(in_features=768, out_features=768, bias=True)\n",
       "              (key): Linear(in_features=768, out_features=768, bias=True)\n",
       "              (value): Linear(in_features=768, out_features=768, bias=True)\n",
       "              (dropout): Dropout(p=0.1, inplace=False)\n",
       "            )\n",
       "            (output): BertSelfOutput(\n",
       "              (dense): Linear(in_features=768, out_features=768, bias=True)\n",
       "              (LayerNorm): BertLayerNorm()\n",
       "              (dropout): Dropout(p=0.1, inplace=False)\n",
       "            )\n",
       "          )\n",
       "          (intermediate): BertIntermediate(\n",
       "            (dense): Linear(in_features=768, out_features=3072, bias=True)\n",
       "          )\n",
       "          (output): BertOutput(\n",
       "            (dense): Linear(in_features=3072, out_features=768, bias=True)\n",
       "            (LayerNorm): BertLayerNorm()\n",
       "            (dropout): Dropout(p=0.1, inplace=False)\n",
       "          )\n",
       "        )\n",
       "        (2): BertLayer(\n",
       "          (attention): BertAttention(\n",
       "            (self): BertSelfAttention(\n",
       "              (query): Linear(in_features=768, out_features=768, bias=True)\n",
       "              (key): Linear(in_features=768, out_features=768, bias=True)\n",
       "              (value): Linear(in_features=768, out_features=768, bias=True)\n",
       "              (dropout): Dropout(p=0.1, inplace=False)\n",
       "            )\n",
       "            (output): BertSelfOutput(\n",
       "              (dense): Linear(in_features=768, out_features=768, bias=True)\n",
       "              (LayerNorm): BertLayerNorm()\n",
       "              (dropout): Dropout(p=0.1, inplace=False)\n",
       "            )\n",
       "          )\n",
       "          (intermediate): BertIntermediate(\n",
       "            (dense): Linear(in_features=768, out_features=3072, bias=True)\n",
       "          )\n",
       "          (output): BertOutput(\n",
       "            (dense): Linear(in_features=3072, out_features=768, bias=True)\n",
       "            (LayerNorm): BertLayerNorm()\n",
       "            (dropout): Dropout(p=0.1, inplace=False)\n",
       "          )\n",
       "        )\n",
       "        (3): BertLayer(\n",
       "          (attention): BertAttention(\n",
       "            (self): BertSelfAttention(\n",
       "              (query): Linear(in_features=768, out_features=768, bias=True)\n",
       "              (key): Linear(in_features=768, out_features=768, bias=True)\n",
       "              (value): Linear(in_features=768, out_features=768, bias=True)\n",
       "              (dropout): Dropout(p=0.1, inplace=False)\n",
       "            )\n",
       "            (output): BertSelfOutput(\n",
       "              (dense): Linear(in_features=768, out_features=768, bias=True)\n",
       "              (LayerNorm): BertLayerNorm()\n",
       "              (dropout): Dropout(p=0.1, inplace=False)\n",
       "            )\n",
       "          )\n",
       "          (intermediate): BertIntermediate(\n",
       "            (dense): Linear(in_features=768, out_features=3072, bias=True)\n",
       "          )\n",
       "          (output): BertOutput(\n",
       "            (dense): Linear(in_features=3072, out_features=768, bias=True)\n",
       "            (LayerNorm): BertLayerNorm()\n",
       "            (dropout): Dropout(p=0.1, inplace=False)\n",
       "          )\n",
       "        )\n",
       "        (4): BertLayer(\n",
       "          (attention): BertAttention(\n",
       "            (self): BertSelfAttention(\n",
       "              (query): Linear(in_features=768, out_features=768, bias=True)\n",
       "              (key): Linear(in_features=768, out_features=768, bias=True)\n",
       "              (value): Linear(in_features=768, out_features=768, bias=True)\n",
       "              (dropout): Dropout(p=0.1, inplace=False)\n",
       "            )\n",
       "            (output): BertSelfOutput(\n",
       "              (dense): Linear(in_features=768, out_features=768, bias=True)\n",
       "              (LayerNorm): BertLayerNorm()\n",
       "              (dropout): Dropout(p=0.1, inplace=False)\n",
       "            )\n",
       "          )\n",
       "          (intermediate): BertIntermediate(\n",
       "            (dense): Linear(in_features=768, out_features=3072, bias=True)\n",
       "          )\n",
       "          (output): BertOutput(\n",
       "            (dense): Linear(in_features=3072, out_features=768, bias=True)\n",
       "            (LayerNorm): BertLayerNorm()\n",
       "            (dropout): Dropout(p=0.1, inplace=False)\n",
       "          )\n",
       "        )\n",
       "        (5): BertLayer(\n",
       "          (attention): BertAttention(\n",
       "            (self): BertSelfAttention(\n",
       "              (query): Linear(in_features=768, out_features=768, bias=True)\n",
       "              (key): Linear(in_features=768, out_features=768, bias=True)\n",
       "              (value): Linear(in_features=768, out_features=768, bias=True)\n",
       "              (dropout): Dropout(p=0.1, inplace=False)\n",
       "            )\n",
       "            (output): BertSelfOutput(\n",
       "              (dense): Linear(in_features=768, out_features=768, bias=True)\n",
       "              (LayerNorm): BertLayerNorm()\n",
       "              (dropout): Dropout(p=0.1, inplace=False)\n",
       "            )\n",
       "          )\n",
       "          (intermediate): BertIntermediate(\n",
       "            (dense): Linear(in_features=768, out_features=3072, bias=True)\n",
       "          )\n",
       "          (output): BertOutput(\n",
       "            (dense): Linear(in_features=3072, out_features=768, bias=True)\n",
       "            (LayerNorm): BertLayerNorm()\n",
       "            (dropout): Dropout(p=0.1, inplace=False)\n",
       "          )\n",
       "        )\n",
       "        (6): BertLayer(\n",
       "          (attention): BertAttention(\n",
       "            (self): BertSelfAttention(\n",
       "              (query): Linear(in_features=768, out_features=768, bias=True)\n",
       "              (key): Linear(in_features=768, out_features=768, bias=True)\n",
       "              (value): Linear(in_features=768, out_features=768, bias=True)\n",
       "              (dropout): Dropout(p=0.1, inplace=False)\n",
       "            )\n",
       "            (output): BertSelfOutput(\n",
       "              (dense): Linear(in_features=768, out_features=768, bias=True)\n",
       "              (LayerNorm): BertLayerNorm()\n",
       "              (dropout): Dropout(p=0.1, inplace=False)\n",
       "            )\n",
       "          )\n",
       "          (intermediate): BertIntermediate(\n",
       "            (dense): Linear(in_features=768, out_features=3072, bias=True)\n",
       "          )\n",
       "          (output): BertOutput(\n",
       "            (dense): Linear(in_features=3072, out_features=768, bias=True)\n",
       "            (LayerNorm): BertLayerNorm()\n",
       "            (dropout): Dropout(p=0.1, inplace=False)\n",
       "          )\n",
       "        )\n",
       "        (7): BertLayer(\n",
       "          (attention): BertAttention(\n",
       "            (self): BertSelfAttention(\n",
       "              (query): Linear(in_features=768, out_features=768, bias=True)\n",
       "              (key): Linear(in_features=768, out_features=768, bias=True)\n",
       "              (value): Linear(in_features=768, out_features=768, bias=True)\n",
       "              (dropout): Dropout(p=0.1, inplace=False)\n",
       "            )\n",
       "            (output): BertSelfOutput(\n",
       "              (dense): Linear(in_features=768, out_features=768, bias=True)\n",
       "              (LayerNorm): BertLayerNorm()\n",
       "              (dropout): Dropout(p=0.1, inplace=False)\n",
       "            )\n",
       "          )\n",
       "          (intermediate): BertIntermediate(\n",
       "            (dense): Linear(in_features=768, out_features=3072, bias=True)\n",
       "          )\n",
       "          (output): BertOutput(\n",
       "            (dense): Linear(in_features=3072, out_features=768, bias=True)\n",
       "            (LayerNorm): BertLayerNorm()\n",
       "            (dropout): Dropout(p=0.1, inplace=False)\n",
       "          )\n",
       "        )\n",
       "        (8): BertLayer(\n",
       "          (attention): BertAttention(\n",
       "            (self): BertSelfAttention(\n",
       "              (query): Linear(in_features=768, out_features=768, bias=True)\n",
       "              (key): Linear(in_features=768, out_features=768, bias=True)\n",
       "              (value): Linear(in_features=768, out_features=768, bias=True)\n",
       "              (dropout): Dropout(p=0.1, inplace=False)\n",
       "            )\n",
       "            (output): BertSelfOutput(\n",
       "              (dense): Linear(in_features=768, out_features=768, bias=True)\n",
       "              (LayerNorm): BertLayerNorm()\n",
       "              (dropout): Dropout(p=0.1, inplace=False)\n",
       "            )\n",
       "          )\n",
       "          (intermediate): BertIntermediate(\n",
       "            (dense): Linear(in_features=768, out_features=3072, bias=True)\n",
       "          )\n",
       "          (output): BertOutput(\n",
       "            (dense): Linear(in_features=3072, out_features=768, bias=True)\n",
       "            (LayerNorm): BertLayerNorm()\n",
       "            (dropout): Dropout(p=0.1, inplace=False)\n",
       "          )\n",
       "        )\n",
       "        (9): BertLayer(\n",
       "          (attention): BertAttention(\n",
       "            (self): BertSelfAttention(\n",
       "              (query): Linear(in_features=768, out_features=768, bias=True)\n",
       "              (key): Linear(in_features=768, out_features=768, bias=True)\n",
       "              (value): Linear(in_features=768, out_features=768, bias=True)\n",
       "              (dropout): Dropout(p=0.1, inplace=False)\n",
       "            )\n",
       "            (output): BertSelfOutput(\n",
       "              (dense): Linear(in_features=768, out_features=768, bias=True)\n",
       "              (LayerNorm): BertLayerNorm()\n",
       "              (dropout): Dropout(p=0.1, inplace=False)\n",
       "            )\n",
       "          )\n",
       "          (intermediate): BertIntermediate(\n",
       "            (dense): Linear(in_features=768, out_features=3072, bias=True)\n",
       "          )\n",
       "          (output): BertOutput(\n",
       "            (dense): Linear(in_features=3072, out_features=768, bias=True)\n",
       "            (LayerNorm): BertLayerNorm()\n",
       "            (dropout): Dropout(p=0.1, inplace=False)\n",
       "          )\n",
       "        )\n",
       "        (10): BertLayer(\n",
       "          (attention): BertAttention(\n",
       "            (self): BertSelfAttention(\n",
       "              (query): Linear(in_features=768, out_features=768, bias=True)\n",
       "              (key): Linear(in_features=768, out_features=768, bias=True)\n",
       "              (value): Linear(in_features=768, out_features=768, bias=True)\n",
       "              (dropout): Dropout(p=0.1, inplace=False)\n",
       "            )\n",
       "            (output): BertSelfOutput(\n",
       "              (dense): Linear(in_features=768, out_features=768, bias=True)\n",
       "              (LayerNorm): BertLayerNorm()\n",
       "              (dropout): Dropout(p=0.1, inplace=False)\n",
       "            )\n",
       "          )\n",
       "          (intermediate): BertIntermediate(\n",
       "            (dense): Linear(in_features=768, out_features=3072, bias=True)\n",
       "          )\n",
       "          (output): BertOutput(\n",
       "            (dense): Linear(in_features=3072, out_features=768, bias=True)\n",
       "            (LayerNorm): BertLayerNorm()\n",
       "            (dropout): Dropout(p=0.1, inplace=False)\n",
       "          )\n",
       "        )\n",
       "        (11): BertLayer(\n",
       "          (attention): BertAttention(\n",
       "            (self): BertSelfAttention(\n",
       "              (query): Linear(in_features=768, out_features=768, bias=True)\n",
       "              (key): Linear(in_features=768, out_features=768, bias=True)\n",
       "              (value): Linear(in_features=768, out_features=768, bias=True)\n",
       "              (dropout): Dropout(p=0.1, inplace=False)\n",
       "            )\n",
       "            (output): BertSelfOutput(\n",
       "              (dense): Linear(in_features=768, out_features=768, bias=True)\n",
       "              (LayerNorm): BertLayerNorm()\n",
       "              (dropout): Dropout(p=0.1, inplace=False)\n",
       "            )\n",
       "          )\n",
       "          (intermediate): BertIntermediate(\n",
       "            (dense): Linear(in_features=768, out_features=3072, bias=True)\n",
       "          )\n",
       "          (output): BertOutput(\n",
       "            (dense): Linear(in_features=3072, out_features=768, bias=True)\n",
       "            (LayerNorm): BertLayerNorm()\n",
       "            (dropout): Dropout(p=0.1, inplace=False)\n",
       "          )\n",
       "        )\n",
       "      )\n",
       "    )\n",
       "    (pooler): BertPooler(\n",
       "      (dense): Linear(in_features=768, out_features=768, bias=True)\n",
       "      (activation): Tanh()\n",
       "    )\n",
       "  )\n",
       "  (dropout): Dropout(p=0.1, inplace=False)\n",
       "  (classifier): Linear(in_features=768, out_features=24, bias=True)\n",
       ")"
      ]
     },
     "execution_count": 95,
     "metadata": {
      "tags": []
     },
     "output_type": "execute_result"
    }
   ],
   "source": [
    "model.cuda()"
   ]
  },
  {
   "cell_type": "code",
   "execution_count": 0,
   "metadata": {
    "colab": {},
    "colab_type": "code",
    "id": "Mmwk5TvjEM4T"
   },
   "outputs": [],
   "source": [
    "FULL_FINETUNING = True\n",
    "if FULL_FINETUNING:\n",
    "    param_optimizer = list(model.named_parameters())\n",
    "    no_decay = ['bias', 'gamma', 'beta']\n",
    "    optimizer_grouped_parameters = [\n",
    "        {'params': [p for n, p in param_optimizer if not any(nd in n for nd in no_decay)],\n",
    "         'weight_decay_rate': 0.01},\n",
    "        {'params': [p for n, p in param_optimizer if any(nd in n for nd in no_decay)],\n",
    "         'weight_decay_rate': 0.0}\n",
    "    ]\n",
    "else:\n",
    "    param_optimizer = list(model.classifier.named_parameters()) \n",
    "    optimizer_grouped_parameters = [{\"params\": [p for n, p in param_optimizer]}]\n",
    "optimizer = Adam(optimizer_grouped_parameters, lr=3e-5)"
   ]
  },
  {
   "cell_type": "code",
   "execution_count": 0,
   "metadata": {
    "colab": {},
    "colab_type": "code",
    "id": "_jW9CdPlEM4X"
   },
   "outputs": [],
   "source": [
    "from sklearn.metrics import f1_score, accuracy_score\n",
    "\n",
    "def flat_accuracy(preds, labels):\n",
    "    pred_flat = np.argmax(preds, axis=2).flatten()\n",
    "    labels_flat = labels.flatten()\n",
    "    return np.sum(pred_flat == labels_flat) / len(labels_flat)"
   ]
  },
  {
   "cell_type": "code",
   "execution_count": 0,
   "metadata": {
    "colab": {},
    "colab_type": "code",
    "id": "y365uBwZwDHG"
   },
   "outputs": [],
   "source": [
    "# checking whether loss is equal when active labels contain 'X' or not\n",
    "# loss_fct = torch.nn.CrossEntropyLoss(ignore_index=tag2idx['X'])\n",
    "# checking = np.random.randint(tr_inputs.shape[0])\n",
    "# b_input_ids, b_input_mask, b_labels = tr_inputs[checking:checking+1].to(device),tr_masks[checking:checking+1].to(device),tr_tags[checking:checking+1].to(device)\n",
    "# decoded_tokens = tokenizer.convert_ids_to_tokens(np.array((tr_inputs[checking])))\n",
    "# decoded_tokens = [word for word in decoded_tokens if word != '[PAD]']\n",
    "# print(decoded_tokens,\"\\n\")\n",
    "# active = ((b_input_mask.view(-1) == 1) * (b_labels.view(-1) != tag2idx['X']))\n",
    "# logits = model(b_input_ids, token_type_ids=None, attention_mask=b_input_mask)\n",
    "# active_logits = logits.view(-1, len(tag2idx))[active]\n",
    "# active_labels = b_labels.view(-1)[active]\n",
    "# print(active_labels)\n",
    "# loss = loss_fct(active_logits, active_labels)\n",
    "# print(loss.item())\n",
    "\n",
    "\n",
    "# active = (b_input_mask.view(-1) == 1)\n",
    "# logits = model(b_input_ids, token_type_ids=None, attention_mask=b_input_mask)\n",
    "# active_logits = logits.view(-1, len(tag2idx))[active]\n",
    "# active_labels = b_labels.view(-1)[active]\n",
    "# print(active_labels)\n",
    "# loss = loss_fct(active_logits, active_labels)\n",
    "# print(loss.item())"
   ]
  },
  {
   "cell_type": "code",
   "execution_count": 0,
   "metadata": {
    "colab": {
     "base_uri": "https://localhost:8080/",
     "height": 51
    },
    "colab_type": "code",
    "id": "pxgA25PL8iP5",
    "outputId": "80e8b11b-bc52-476c-bfc1-e8176a5c69ed"
   },
   "outputs": [
    {
     "name": "stdout",
     "output_type": "stream",
     "text": [
      "tensor([1., 1., 1., 1., 1., 1., 1., 1., 1., 1., 1., 1., 1., 1., 1., 1., 1., 1.,\n",
      "        1., 1., 1., 1., 1., 0.])\n"
     ]
    }
   ],
   "source": [
    "weight_fct = lambda num: 1\n",
    "weight = np.array([weight_fct(np.sum(tags == i)) for i in range(len(tag2idx))],dtype=float)\n",
    "weight[tag2idx['X']] = 0\n",
    "weight = torch.tensor(weight).to(torch.float)\n",
    "print(weight)"
   ]
  },
  {
   "cell_type": "code",
   "execution_count": 0,
   "metadata": {
    "colab": {
     "base_uri": "https://localhost:8080/",
     "height": 1000
    },
    "colab_type": "code",
    "id": "5lrOw2O_EM4a",
    "outputId": "e858284b-d3ea-408f-f7d4-8a6f9431101a"
   },
   "outputs": [
    {
     "name": "stderr",
     "output_type": "stream",
     "text": [
      "\n",
      "Epoch:   0%|          | 0/50 [00:00<?, ?it/s]\u001b[A/usr/local/lib/python3.6/dist-packages/sklearn/metrics/classification.py:1437: UndefinedMetricWarning: F-score is ill-defined and being set to 0.0 in labels with no predicted samples.\n",
      "  'precision', 'predicted', average, warn_for)\n",
      "\n",
      "Epoch:   2%|▏         | 1/50 [00:29<23:56, 29.32s/it]\u001b[A"
     ]
    },
    {
     "name": "stdout",
     "output_type": "stream",
     "text": [
      "Train loss: 4.214677738420891\n",
      "Validation loss: 1.2712256095626138\n",
      "Validation Accuracy: 0.633559598153679\n",
      "F1-Score: 0.21851146695874962\n"
     ]
    },
    {
     "name": "stderr",
     "output_type": "stream",
     "text": [
      "\n",
      "Epoch:   4%|▍         | 2/50 [00:58<23:27, 29.33s/it]\u001b[A"
     ]
    },
    {
     "name": "stdout",
     "output_type": "stream",
     "text": [
      "Train loss: 2.5252207680182024\n",
      "Validation loss: 0.9748769059325709\n",
      "Validation Accuracy: 0.7186532717893022\n",
      "F1-Score: 0.4580010899097184\n"
     ]
    },
    {
     "name": "stderr",
     "output_type": "stream",
     "text": [
      "\n",
      "Epoch:   6%|▌         | 3/50 [01:27<22:55, 29.26s/it]\u001b[A"
     ]
    },
    {
     "name": "stdout",
     "output_type": "stream",
     "text": [
      "Train loss: 1.8397673693570225\n",
      "Validation loss: 0.9261372053261959\n",
      "Validation Accuracy: 0.7323377681238121\n",
      "F1-Score: 0.5428055428820568\n"
     ]
    },
    {
     "name": "stderr",
     "output_type": "stream",
     "text": [
      "\n",
      "Epoch:   8%|▊         | 4/50 [01:57<22:26, 29.27s/it]\u001b[A"
     ]
    },
    {
     "name": "stdout",
     "output_type": "stream",
     "text": [
      "Train loss: 1.3914752250367945\n",
      "Validation loss: 0.9271842241287231\n",
      "Validation Accuracy: 0.7376595166983437\n",
      "F1-Score: 0.6057812307697468\n"
     ]
    },
    {
     "name": "stderr",
     "output_type": "stream",
     "text": [
      "\n",
      "Epoch:  10%|█         | 5/50 [02:26<21:58, 29.29s/it]\u001b[A"
     ]
    },
    {
     "name": "stdout",
     "output_type": "stream",
     "text": [
      "Train loss: 1.0175983147187666\n",
      "Validation loss: 1.0059846784129287\n",
      "Validation Accuracy: 0.7426011403746945\n",
      "F1-Score: 0.6189257653654494\n"
     ]
    },
    {
     "name": "stderr",
     "output_type": "stream",
     "text": [
      "\n",
      "Epoch:  12%|█▏        | 6/50 [02:55<21:26, 29.24s/it]\u001b[A"
     ]
    },
    {
     "name": "stdout",
     "output_type": "stream",
     "text": [
      "Train loss: 0.7294880467833895\n",
      "Validation loss: 1.0462872115048496\n",
      "Validation Accuracy: 0.7490632636437686\n",
      "F1-Score: 0.6255317366938133\n"
     ]
    },
    {
     "name": "stderr",
     "output_type": "stream",
     "text": [
      "\n",
      "Epoch:  14%|█▍        | 7/50 [03:24<20:57, 29.24s/it]\u001b[A"
     ]
    },
    {
     "name": "stdout",
     "output_type": "stream",
     "text": [
      "Train loss: 0.548250515352596\n",
      "Validation loss: 1.133968629620292\n",
      "Validation Accuracy: 0.7480314960629921\n",
      "F1-Score: 0.6183430600262756\n"
     ]
    },
    {
     "name": "stderr",
     "output_type": "stream",
     "text": [
      "\n",
      "Epoch:  16%|█▌        | 8/50 [03:53<20:26, 29.20s/it]\u001b[A"
     ]
    },
    {
     "name": "stdout",
     "output_type": "stream",
     "text": [
      "Train loss: 0.4094369499520822\n",
      "Validation loss: 1.1946092356335034\n",
      "Validation Accuracy: 0.7451534075481944\n",
      "F1-Score: 0.6186411387752279\n"
     ]
    },
    {
     "name": "stderr",
     "output_type": "stream",
     "text": [
      "\n",
      "Epoch:  18%|█▊        | 9/50 [04:23<19:58, 29.23s/it]\u001b[A"
     ]
    },
    {
     "name": "stdout",
     "output_type": "stream",
     "text": [
      "Train loss: 0.33395394095868774\n",
      "Validation loss: 1.2183843887213506\n",
      "Validation Accuracy: 0.7525386912842791\n",
      "F1-Score: 0.628201945292912\n"
     ]
    },
    {
     "name": "stderr",
     "output_type": "stream",
     "text": [
      "\n",
      "Epoch:  20%|██        | 10/50 [04:52<19:27, 29.19s/it]\u001b[A"
     ]
    },
    {
     "name": "stdout",
     "output_type": "stream",
     "text": [
      "Train loss: 0.27079844147418486\n",
      "Validation loss: 1.2506187774918296\n",
      "Validation Accuracy: 0.7554167797990768\n",
      "F1-Score: 0.6274304247006782\n"
     ]
    },
    {
     "name": "stderr",
     "output_type": "stream",
     "text": [
      "\n",
      "Epoch:  22%|██▏       | 11/50 [05:21<18:59, 29.22s/it]\u001b[A"
     ]
    },
    {
     "name": "stdout",
     "output_type": "stream",
     "text": [
      "Train loss: 0.21697807029792757\n",
      "Validation loss: 1.303796730258248\n",
      "Validation Accuracy: 0.7559055118110236\n",
      "F1-Score: 0.6301563179521796\n"
     ]
    },
    {
     "name": "stderr",
     "output_type": "stream",
     "text": [
      "\n",
      "Epoch:  24%|██▍       | 12/50 [05:50<18:29, 29.20s/it]\u001b[A"
     ]
    },
    {
     "name": "stdout",
     "output_type": "stream",
     "text": [
      "Train loss: 0.1838014739932436\n",
      "Validation loss: 1.3401407780069294\n",
      "Validation Accuracy: 0.7583491718707576\n",
      "F1-Score: 0.6355843334287724\n"
     ]
    },
    {
     "name": "stderr",
     "output_type": "stream",
     "text": [
      "\n",
      "Epoch:  26%|██▌       | 13/50 [06:19<18:00, 29.20s/it]\u001b[A"
     ]
    },
    {
     "name": "stdout",
     "output_type": "stream",
     "text": [
      "Train loss: 0.1474974968216636\n",
      "Validation loss: 1.424536574970592\n",
      "Validation Accuracy: 0.7534618517512897\n",
      "F1-Score: 0.6361761530526412\n"
     ]
    },
    {
     "name": "stderr",
     "output_type": "stream",
     "text": [
      "\n",
      "Epoch:  28%|██▊       | 14/50 [06:49<17:30, 29.18s/it]\u001b[A"
     ]
    },
    {
     "name": "stdout",
     "output_type": "stream",
     "text": [
      "Train loss: 0.1201435373813817\n",
      "Validation loss: 1.4316744190273862\n",
      "Validation Accuracy: 0.7575889220743959\n",
      "F1-Score: 0.6469978559934432\n"
     ]
    },
    {
     "name": "stderr",
     "output_type": "stream",
     "text": [
      "\n",
      "Epoch:  30%|███       | 15/50 [07:18<17:01, 29.20s/it]\u001b[A"
     ]
    },
    {
     "name": "stdout",
     "output_type": "stream",
     "text": [
      "Train loss: 0.10154087514136777\n",
      "Validation loss: 1.4834134398084697\n",
      "Validation Accuracy: 0.759706760792832\n",
      "F1-Score: 0.6409606881675878\n"
     ]
    },
    {
     "name": "stderr",
     "output_type": "stream",
     "text": [
      "\n",
      "Epoch:  32%|███▏      | 16/50 [07:47<16:32, 29.18s/it]\u001b[A"
     ]
    },
    {
     "name": "stdout",
     "output_type": "stream",
     "text": [
      "Train loss: 0.09026920736174691\n",
      "Validation loss: 1.527702889659188\n",
      "Validation Accuracy: 0.7560684224816725\n",
      "F1-Score: 0.6322445296973884\n"
     ]
    },
    {
     "name": "stderr",
     "output_type": "stream",
     "text": [
      "\n",
      "Epoch:  34%|███▍      | 17/50 [08:16<16:03, 29.20s/it]\u001b[A"
     ]
    },
    {
     "name": "stdout",
     "output_type": "stream",
     "text": [
      "Train loss: 0.07608035212439118\n",
      "Validation loss: 1.5618869481664714\n",
      "Validation Accuracy: 0.7559055118110236\n",
      "F1-Score: 0.6396056236418036\n"
     ]
    },
    {
     "name": "stderr",
     "output_type": "stream",
     "text": [
      "\n",
      "Epoch:  36%|███▌      | 18/50 [08:45<15:32, 29.15s/it]\u001b[A"
     ]
    },
    {
     "name": "stdout",
     "output_type": "stream",
     "text": [
      "Train loss: 0.07482431560867664\n",
      "Validation loss: 1.5792023485357112\n",
      "Validation Accuracy: 0.7561770295954385\n",
      "F1-Score: 0.645041040276935\n"
     ]
    },
    {
     "name": "stderr",
     "output_type": "stream",
     "text": [
      "\n",
      "Epoch:  38%|███▊      | 19/50 [09:15<15:05, 29.20s/it]\u001b[A"
     ]
    },
    {
     "name": "stdout",
     "output_type": "stream",
     "text": [
      "Train loss: 0.06408327511709297\n",
      "Validation loss: 1.5735714182709202\n",
      "Validation Accuracy: 0.7606842248167255\n",
      "F1-Score: 0.6431707008467518\n"
     ]
    },
    {
     "name": "stderr",
     "output_type": "stream",
     "text": [
      "\n",
      "Epoch:  40%|████      | 20/50 [09:44<14:34, 29.16s/it]\u001b[A"
     ]
    },
    {
     "name": "stdout",
     "output_type": "stream",
     "text": [
      "Train loss: 0.06340948510632823\n",
      "Validation loss: 1.5725411555983804\n",
      "Validation Accuracy: 0.7599239750203638\n",
      "F1-Score: 0.6369594088098733\n"
     ]
    },
    {
     "name": "stderr",
     "output_type": "stream",
     "text": [
      "\n",
      "Epoch:  42%|████▏     | 21/50 [10:13<14:06, 29.20s/it]\u001b[A"
     ]
    },
    {
     "name": "stdout",
     "output_type": "stream",
     "text": [
      "Train loss: 0.05548128426413645\n",
      "Validation loss: 1.6208384651126284\n",
      "Validation Accuracy: 0.759652457235949\n",
      "F1-Score: 0.6368806979535654\n"
     ]
    },
    {
     "name": "stderr",
     "output_type": "stream",
     "text": [
      "\n",
      "Epoch:  44%|████▍     | 22/50 [10:42<13:36, 29.15s/it]\u001b[A"
     ]
    },
    {
     "name": "stdout",
     "output_type": "stream",
     "text": [
      "Train loss: 0.056276644043850174\n",
      "Validation loss: 1.6135595151872346\n",
      "Validation Accuracy: 0.7569372793918001\n",
      "F1-Score: 0.642670653649202\n"
     ]
    },
    {
     "name": "stderr",
     "output_type": "stream",
     "text": [
      "\n",
      "Epoch:  46%|████▌     | 23/50 [11:11<13:06, 29.11s/it]\u001b[A"
     ]
    },
    {
     "name": "stdout",
     "output_type": "stream",
     "text": [
      "Train loss: 0.045312836872075095\n",
      "Validation loss: 1.7170467268336902\n",
      "Validation Accuracy: 0.7442302470811838\n",
      "F1-Score: 0.6272931520941282\n"
     ]
    },
    {
     "name": "stderr",
     "output_type": "stream",
     "text": [
      "\n",
      "Epoch:  48%|████▊     | 24/50 [11:40<12:36, 29.09s/it]\u001b[A"
     ]
    },
    {
     "name": "stdout",
     "output_type": "stream",
     "text": [
      "Train loss: 0.043436562614233204\n",
      "Validation loss: 1.6815656008142414\n",
      "Validation Accuracy: 0.7590551181102362\n",
      "F1-Score: 0.6367133200545341\n"
     ]
    },
    {
     "name": "stderr",
     "output_type": "stream",
     "text": [
      "\n",
      "Epoch:  50%|█████     | 25/50 [12:09<12:06, 29.06s/it]\u001b[A"
     ]
    },
    {
     "name": "stdout",
     "output_type": "stream",
     "text": [
      "Train loss: 0.03373165805400773\n",
      "Validation loss: 1.7004632046728423\n",
      "Validation Accuracy: 0.7478142818354602\n",
      "F1-Score: 0.6263816598251767\n"
     ]
    },
    {
     "name": "stderr",
     "output_type": "stream",
     "text": [
      "\n",
      "Epoch:  52%|█████▏    | 26/50 [12:38<11:37, 29.06s/it]\u001b[A"
     ]
    },
    {
     "name": "stdout",
     "output_type": "stream",
     "text": [
      "Train loss: 0.039675421377813276\n",
      "Validation loss: 1.7383535251472935\n",
      "Validation Accuracy: 0.7625305457507466\n",
      "F1-Score: 0.6418281096474093\n"
     ]
    },
    {
     "name": "stderr",
     "output_type": "stream",
     "text": [
      "\n",
      "Epoch:  54%|█████▍    | 27/50 [13:07<11:09, 29.11s/it]\u001b[A"
     ]
    },
    {
     "name": "stdout",
     "output_type": "stream",
     "text": [
      "Train loss: 0.032219782415213005\n",
      "Validation loss: 1.734335933670853\n",
      "Validation Accuracy: 0.7603040999185446\n",
      "F1-Score: 0.6388584018818169\n"
     ]
    },
    {
     "name": "stderr",
     "output_type": "stream",
     "text": [
      "\n",
      "Epoch:  56%|█████▌    | 28/50 [13:36<10:40, 29.10s/it]\u001b[A"
     ]
    },
    {
     "name": "stdout",
     "output_type": "stream",
     "text": [
      "Train loss: 0.028494198093981002\n",
      "Validation loss: 1.7503589789072673\n",
      "Validation Accuracy: 0.7581319576432256\n",
      "F1-Score: 0.6425671011569263\n"
     ]
    },
    {
     "name": "stderr",
     "output_type": "stream",
     "text": [
      "\n",
      "Epoch:  58%|█████▊    | 29/50 [14:05<10:10, 29.07s/it]\u001b[A"
     ]
    },
    {
     "name": "stdout",
     "output_type": "stream",
     "text": [
      "Train loss: 0.030515191268712057\n",
      "Validation loss: 1.7728898254307834\n",
      "Validation Accuracy: 0.7619332066250339\n",
      "F1-Score: 0.6468461934620983\n"
     ]
    },
    {
     "name": "stderr",
     "output_type": "stream",
     "text": [
      "\n",
      "Epoch:  60%|██████    | 30/50 [14:34<09:41, 29.06s/it]\u001b[A"
     ]
    },
    {
     "name": "stdout",
     "output_type": "stream",
     "text": [
      "Train loss: 0.02531300427984785\n",
      "Validation loss: 1.7537455757459004\n",
      "Validation Accuracy: 0.7621504208525658\n",
      "F1-Score: 0.6445000579493315\n"
     ]
    },
    {
     "name": "stderr",
     "output_type": "stream",
     "text": [
      "\n",
      "Epoch:  62%|██████▏   | 31/50 [15:03<09:12, 29.05s/it]\u001b[A"
     ]
    },
    {
     "name": "stdout",
     "output_type": "stream",
     "text": [
      "Train loss: 0.025362633847786736\n",
      "Validation loss: 1.7951875563823816\n",
      "Validation Accuracy: 0.7581319576432256\n",
      "F1-Score: 0.6381979360205333\n"
     ]
    },
    {
     "name": "stderr",
     "output_type": "stream",
     "text": [
      "\n",
      "Epoch:  64%|██████▍   | 32/50 [15:32<08:42, 29.04s/it]\u001b[A"
     ]
    },
    {
     "name": "stdout",
     "output_type": "stream",
     "text": [
      "Train loss: 0.021914293054688835\n",
      "Validation loss: 1.8339519825848667\n",
      "Validation Accuracy: 0.7594895465653\n",
      "F1-Score: 0.6375098608330084\n"
     ]
    },
    {
     "name": "stderr",
     "output_type": "stream",
     "text": [
      "\n",
      "Epoch:  66%|██████▌   | 33/50 [16:01<08:13, 29.03s/it]\u001b[A"
     ]
    },
    {
     "name": "stdout",
     "output_type": "stream",
     "text": [
      "Train loss: 0.023967109620571136\n",
      "Validation loss: 1.8358457070408445\n",
      "Validation Accuracy: 0.761661688840619\n",
      "F1-Score: 0.6414637595972951\n"
     ]
    },
    {
     "name": "stderr",
     "output_type": "stream",
     "text": [
      "\n",
      "Epoch:  68%|██████▊   | 34/50 [16:30<07:44, 29.04s/it]\u001b[A"
     ]
    },
    {
     "name": "stdout",
     "output_type": "stream",
     "text": [
      "Train loss: 0.024336897757497023\n",
      "Validation loss: 1.8527673627391006\n",
      "Validation Accuracy: 0.7599782785772468\n",
      "F1-Score: 0.6415148602312448\n"
     ]
    },
    {
     "name": "stderr",
     "output_type": "stream",
     "text": [
      "\n",
      "Epoch:  70%|███████   | 35/50 [17:00<07:15, 29.04s/it]\u001b[A"
     ]
    },
    {
     "name": "stdout",
     "output_type": "stream",
     "text": [
      "Train loss: 0.02296860737260431\n",
      "Validation loss: 1.85028080145518\n",
      "Validation Accuracy: 0.7621504208525658\n",
      "F1-Score: 0.6434478121496936\n"
     ]
    },
    {
     "name": "stderr",
     "output_type": "stream",
     "text": [
      "\n",
      "Epoch:  72%|███████▏  | 36/50 [17:29<06:46, 29.02s/it]\u001b[A"
     ]
    },
    {
     "name": "stdout",
     "output_type": "stream",
     "text": [
      "Train loss: 0.024866638496997908\n",
      "Validation loss: 1.874509040153388\n",
      "Validation Accuracy: 0.7575346185175129\n",
      "F1-Score: 0.6391656553080465\n"
     ]
    },
    {
     "name": "stderr",
     "output_type": "stream",
     "text": [
      "\n",
      "Epoch:  74%|███████▍  | 37/50 [17:58<06:17, 29.04s/it]\u001b[A"
     ]
    },
    {
     "name": "stdout",
     "output_type": "stream",
     "text": [
      "Train loss: 0.01980953186108364\n",
      "Validation loss: 1.8486125071843464\n",
      "Validation Accuracy: 0.7613358674993213\n",
      "F1-Score: 0.6509357066907784\n"
     ]
    },
    {
     "name": "stderr",
     "output_type": "stream",
     "text": [
      "\n",
      "Epoch:  76%|███████▌  | 38/50 [18:27<05:48, 29.02s/it]\u001b[A"
     ]
    },
    {
     "name": "stdout",
     "output_type": "stream",
     "text": [
      "Train loss: 0.01997701757566326\n",
      "Validation loss: 1.916942657846393\n",
      "Validation Accuracy: 0.7605756177029596\n",
      "F1-Score: 0.6412375096409503\n"
     ]
    },
    {
     "name": "stderr",
     "output_type": "stream",
     "text": [
      "\n",
      "Epoch:  78%|███████▊  | 39/50 [18:56<05:19, 29.02s/it]\u001b[A"
     ]
    },
    {
     "name": "stdout",
     "output_type": "stream",
     "text": [
      "Train loss: 0.023907609403867162\n",
      "Validation loss: 1.8857930031689731\n",
      "Validation Accuracy: 0.7567743687211512\n",
      "F1-Score: 0.6360994500562593\n"
     ]
    },
    {
     "name": "stderr",
     "output_type": "stream",
     "text": [
      "\n",
      "Epoch:  80%|████████  | 40/50 [19:25<04:50, 29.02s/it]\u001b[A"
     ]
    },
    {
     "name": "stdout",
     "output_type": "stream",
     "text": [
      "Train loss: 0.024587972636447485\n",
      "Validation loss: 1.8660660006783225\n",
      "Validation Accuracy: 0.7558512082541406\n",
      "F1-Score: 0.6472191154281649\n"
     ]
    },
    {
     "name": "stderr",
     "output_type": "stream",
     "text": [
      "\n",
      "Epoch:  82%|████████▏ | 41/50 [19:54<04:21, 29.01s/it]\u001b[A"
     ]
    },
    {
     "name": "stdout",
     "output_type": "stream",
     "text": [
      "Train loss: 0.0191026579087713\n",
      "Validation loss: 1.90902974208196\n",
      "Validation Accuracy: 0.7567200651642683\n",
      "F1-Score: 0.6374698441019772\n"
     ]
    },
    {
     "name": "stderr",
     "output_type": "stream",
     "text": [
      "\n",
      "Epoch:  84%|████████▍ | 42/50 [20:23<03:52, 29.02s/it]\u001b[A"
     ]
    },
    {
     "name": "stdout",
     "output_type": "stream",
     "text": [
      "Train loss: 0.020114369300603303\n",
      "Validation loss: 1.9109041835322524\n",
      "Validation Accuracy: 0.7626391528645127\n",
      "F1-Score: 0.6416610800156384\n"
     ]
    },
    {
     "name": "stderr",
     "output_type": "stream",
     "text": [
      "\n",
      "Epoch:  86%|████████▌ | 43/50 [20:52<03:23, 29.02s/it]\u001b[A"
     ]
    },
    {
     "name": "stdout",
     "output_type": "stream",
     "text": [
      "Train loss: 0.02114602301453212\n",
      "Validation loss: 1.885762131575382\n",
      "Validation Accuracy: 0.7522128699429813\n",
      "F1-Score: 0.6326747648017769\n"
     ]
    },
    {
     "name": "stderr",
     "output_type": "stream",
     "text": [
      "\n",
      "Epoch:  88%|████████▊ | 44/50 [21:21<02:54, 29.02s/it]\u001b[A"
     ]
    },
    {
     "name": "stdout",
     "output_type": "stream",
     "text": [
      "Train loss: 0.018031769922482923\n",
      "Validation loss: 1.8921358368613503\n",
      "Validation Accuracy: 0.7558512082541406\n",
      "F1-Score: 0.6433485646096768\n"
     ]
    },
    {
     "name": "stderr",
     "output_type": "stream",
     "text": [
      "\n",
      "Epoch:  90%|█████████ | 45/50 [21:50<02:25, 29.04s/it]\u001b[A"
     ]
    },
    {
     "name": "stdout",
     "output_type": "stream",
     "text": [
      "Train loss: 0.02091718146005984\n",
      "Validation loss: 1.9486093123753865\n",
      "Validation Accuracy: 0.755090958457779\n",
      "F1-Score: 0.6396228112148709\n"
     ]
    },
    {
     "name": "stderr",
     "output_type": "stream",
     "text": [
      "\n",
      "Epoch:  92%|█████████▏| 46/50 [22:19<01:56, 29.03s/it]\u001b[A"
     ]
    },
    {
     "name": "stdout",
     "output_type": "stream",
     "text": [
      "Train loss: 0.023760351225395094\n",
      "Validation loss: 1.9474992390834924\n",
      "Validation Accuracy: 0.7568286722780342\n",
      "F1-Score: 0.6451139087153073\n"
     ]
    },
    {
     "name": "stderr",
     "output_type": "stream",
     "text": [
      "\n",
      "Epoch:  94%|█████████▍| 47/50 [22:48<01:27, 29.03s/it]\u001b[A"
     ]
    },
    {
     "name": "stdout",
     "output_type": "stream",
     "text": [
      "Train loss: 0.015102688175499101\n",
      "Validation loss: 2.0581868489583335\n",
      "Validation Accuracy: 0.7527016019549281\n",
      "F1-Score: 0.640851809557822\n"
     ]
    },
    {
     "name": "stderr",
     "output_type": "stream",
     "text": [
      "\n",
      "Epoch:  96%|█████████▌| 48/50 [23:17<00:58, 29.02s/it]\u001b[A"
     ]
    },
    {
     "name": "stdout",
     "output_type": "stream",
     "text": [
      "Train loss: 0.021138124542741218\n",
      "Validation loss: 1.9899327140865903\n",
      "Validation Accuracy: 0.7562313331523215\n",
      "F1-Score: 0.6370444116595388\n"
     ]
    },
    {
     "name": "stderr",
     "output_type": "stream",
     "text": [
      "\n",
      "Epoch:  98%|█████████▊| 49/50 [23:46<00:29, 29.02s/it]\u001b[A"
     ]
    },
    {
     "name": "stdout",
     "output_type": "stream",
     "text": [
      "Train loss: 0.02112029598775376\n",
      "Validation loss: 1.9827114217209094\n",
      "Validation Accuracy: 0.7621504208525658\n",
      "F1-Score: 0.6422705595444577\n"
     ]
    },
    {
     "name": "stderr",
     "output_type": "stream",
     "text": [
      "\n",
      "Epoch: 100%|██████████| 50/50 [24:15<00:00, 29.03s/it]\u001b[A\n",
      "\u001b[A"
     ]
    },
    {
     "name": "stdout",
     "output_type": "stream",
     "text": [
      "Train loss: 0.02190542119382316\n",
      "Validation loss: 1.9592859148979187\n",
      "Validation Accuracy: 0.7643225631278848\n",
      "F1-Score: 0.6461029378695063\n"
     ]
    }
   ],
   "source": [
    "from copy import deepcopy\n",
    "\n",
    "epochs = 50\n",
    "max_grad_norm = 1.0\n",
    "\n",
    "loss_fct = torch.nn.CrossEntropyLoss\n",
    "loss_fct_gpu = loss_fct(weight=weight.to('cuda'),ignore_index=tag2idx['X'])\n",
    "loss_fct_cpu = loss_fct(weight=weight.to('cpu'),ignore_index=tag2idx['X'])\n",
    "\n",
    "best_F1 = 0\n",
    "best_accuracy = 0\n",
    "best_model = None\n",
    "\n",
    "train_losses, validation_losses, accuracies, F1s = [],[],[],[]\n",
    "\n",
    "for _ in trange(epochs, desc=\"Epoch\"):\n",
    "    # TRAIN loop\n",
    "    model.train()\n",
    "    tr_loss = 0\n",
    "    nb_tr_examples, nb_tr_steps = 0, 0\n",
    "    for step, batch in enumerate(train_dataloader):\n",
    "        # add batch to gpu\n",
    "        batch = tuple(t.to(device) for t in batch)\n",
    "        b_input_ids, b_input_mask, b_labels = batch\n",
    "        # forward pass\n",
    "        \n",
    "        active = ((b_input_mask.view(-1) == 1) * (b_labels.view(-1) != tag2idx['X']))\n",
    "        logits = model(b_input_ids, token_type_ids=None, attention_mask=b_input_mask)\n",
    "        active_logits = logits.view(-1, len(tag2idx))[active]\n",
    "        active_labels = b_labels.view(-1)[active]\n",
    "        loss = loss_fct_gpu(active_logits, active_labels)\n",
    "        # backward pass\n",
    "        loss.backward()\n",
    "        # track train loss\n",
    "        tr_loss += loss.item()\n",
    "        nb_tr_examples += b_input_ids.size(0)\n",
    "        nb_tr_steps += 1\n",
    "        # gradient clipping\n",
    "        torch.nn.utils.clip_grad_norm_(parameters=model.parameters(), max_norm=max_grad_norm)\n",
    "        # update parameters\n",
    "        optimizer.step()\n",
    "        model.zero_grad()\n",
    "    # print train loss per epoch\n",
    "    # print(\"Train loss: {}\".format(tr_loss/nb_tr_steps))\n",
    "    # VALIDATION on validation set\n",
    "    model.eval()\n",
    "    eval_loss, eval_accuracy = 0, 0\n",
    "    nb_eval_steps, nb_eval_examples = 0, 0\n",
    "    predictions , true_labels = [], []\n",
    "    for batch in valid_dataloader:\n",
    "        batch = tuple(t.to(device) for t in batch)\n",
    "        b_input_ids, b_input_mask, b_labels = batch\n",
    "        \n",
    "        with torch.no_grad():\n",
    "            # tmp_eval_loss = model(b_input_ids, token_type_ids=None,\n",
    "            #                       attention_mask=b_input_mask, labels=b_labels)\n",
    "            logits = model(b_input_ids, token_type_ids=None, attention_mask=b_input_mask)\n",
    "\n",
    "# original\n",
    "#         logits = logits.detach().cpu().numpy()\n",
    "#         label_ids = b_labels.to('cpu').numpy()\n",
    "#         predictions.extend([list(p) for p in np.argmax(logits, axis=2)])\n",
    "#         true_labels.append(label_ids)\n",
    "#         tmp_eval_accuracy = flat_accuracy(logits, label_ids)\n",
    "#         eval_accuracy += tmp_eval_accuracy\n",
    "\n",
    "#revised\n",
    "        active = ((b_input_mask.view(-1) == 1) * (b_labels.view(-1) != tag2idx['X']))\n",
    "        active_logits = logits.view(-1, len(tag2idx))[active].cpu()\n",
    "        active_labels = b_labels.view(-1)[active].cpu()\n",
    "        loss = loss_fct_cpu(active_logits, active_labels)\n",
    "        pred_labels = np.argmax(active_logits, axis=1)\n",
    "        predictions.append(pred_labels)\n",
    "        true_labels.append(active_labels)\n",
    "        \n",
    "        \n",
    "        eval_loss += loss.item()\n",
    "        \n",
    "        nb_eval_examples += b_input_ids.size(0)\n",
    "        nb_eval_steps += 1\n",
    "    eval_loss = eval_loss/nb_eval_steps\n",
    "    tr_loss = tr_loss/nb_eval_steps\n",
    "    predictions = np.concatenate(predictions)\n",
    "    true_labels = np.concatenate(true_labels)\n",
    "    eval_accuracy = accuracy_score(true_labels, predictions, normalize=True, sample_weight=None)\n",
    "    F1 = f1_score(true_labels, predictions, average='macro')\n",
    "    print(\"Train loss: {}\".format(tr_loss))\n",
    "    print(\"Validation loss: {}\".format(eval_loss))\n",
    "    print(\"Validation Accuracy: {}\".format(eval_accuracy))\n",
    "    print(\"F1-Score: {}\".format(F1))\n",
    "    train_losses.append(tr_loss)\n",
    "    validation_losses.append(eval_loss)\n",
    "    accuracies.append(eval_accuracy)\n",
    "    F1s.append(F1)\n",
    "\n",
    "    if F1 > best_F1:\n",
    "        best_F1, best_accuracy, best_model = F1, eval_accuracy, deepcopy(model)"
   ]
  },
  {
   "cell_type": "code",
   "execution_count": 0,
   "metadata": {
    "colab": {
     "base_uri": "https://localhost:8080/",
     "height": 71
    },
    "colab_type": "code",
    "id": "8p53wrmhJUtQ",
    "outputId": "e7047f7e-b729-414b-a081-689417bc6d60"
   },
   "outputs": [
    {
     "name": "stdout",
     "output_type": "stream",
     "text": [
      "Best F1: 0.6509357066907784\n",
      "Best accuracy: 0.7613358674993213\n"
     ]
    }
   ],
   "source": [
    "print(\"Best F1: {}\".format(best_F1))\n",
    "print(\"Best accuracy: {}\".format(best_accuracy))\n",
    "\n",
    "with open(\"output\",\"w\") as f:\n",
    "  f.write(\"Best F1: {}\\n\".format(best_F1))\n",
    "  f.write(\"Best accuracy: {}\".format(best_accuracy))"
   ]
  },
  {
   "cell_type": "code",
   "execution_count": 0,
   "metadata": {
    "colab": {
     "base_uri": "https://localhost:8080/",
     "height": 279
    },
    "colab_type": "code",
    "id": "sYAVkAWt-3qI",
    "outputId": "6f0ffbd1-1e8f-4f1c-98ae-39787bbd0518"
   },
   "outputs": [
    {
     "data": {
      "image/png": "[encoded data removed]",
      "text/plain": [
       "<Figure size 432x288 with 2 Axes>"
      ]
     },
     "metadata": {
      "tags": []
     },
     "output_type": "display_data"
    }
   ],
   "source": [
    "import matplotlib.pyplot as plt\n",
    "\n",
    "epoch = np.arange(1,epochs+1)\n",
    "fig = plt.figure()\n",
    "ax1 = fig.add_subplot(111)\n",
    "ax1.plot(epoch,train_losses,'b',label=\"train loss\")\n",
    "ax1.plot(epoch,validation_losses,'r',label=\"validation loss\")\n",
    "ax1.legend(loc=0)\n",
    "ax1.set_ylabel('Loss')\n",
    "ax1.set_xlabel(\"Epoch\")\n",
    "ax1.set_xlim(1,epochs)\n",
    "ax1.set_ylim(0,None)\n",
    "ax2 = ax1.twinx()\n",
    "ax2.plot(epoch,accuracies,'k',label=\"accuracy\")\n",
    "ax2.plot(epoch,F1s,'g',label=\"F1 score\")\n",
    "ax2.legend(loc=2)\n",
    "ax2.set_ylabel('performance')\n",
    "# ax2.set_ylim(0.5,1)\n",
    "plt.savefig(\"GUM.png\",dpi=600)\n",
    "plt.show()"
   ]
  }
 ],
 "metadata": {
  "accelerator": "GPU",
  "colab": {
   "collapsed_sections": [],
   "name": "BERT.ipynb",
   "provenance": []
  },
  "kernelspec": {
   "display_name": "Python 3",
   "language": "python",
   "name": "python3"
  },
  "language_info": {
   "codemirror_mode": {
    "name": "ipython",
    "version": 3
   },
   "file_extension": ".py",
   "mimetype": "text/x-python",
   "name": "python",
   "nbconvert_exporter": "python",
   "pygments_lexer": "ipython3",
   "version": "3.7.3"
  }
 },
 "nbformat": 4,
 "nbformat_minor": 1
}
